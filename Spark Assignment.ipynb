{
 "cells": [
  {
   "cell_type": "code",
   "execution_count": 1,
   "id": "61e9ec91",
   "metadata": {},
   "outputs": [
    {
     "name": "stdout",
     "output_type": "stream",
     "text": [
      "Requirement already satisfied: pyspark in c:\\users\\varukish\\appdata\\local\\anaconda3\\lib\\site-packages (3.5.0)\n",
      "Requirement already satisfied: py4j==0.10.9.7 in c:\\users\\varukish\\appdata\\local\\anaconda3\\lib\\site-packages (from pyspark) (0.10.9.7)\n"
     ]
    }
   ],
   "source": [
    "!pip install pyspark"
   ]
  },
  {
   "cell_type": "code",
   "execution_count": 64,
   "id": "838a4c7c",
   "metadata": {},
   "outputs": [],
   "source": [
    "from pyspark.sql import SparkSession\n",
    "from pyspark.sql.functions import *\n",
    "from pyspark.sql.types import *"
   ]
  },
  {
   "cell_type": "code",
   "execution_count": 3,
   "id": "c277b248",
   "metadata": {},
   "outputs": [],
   "source": [
    "spark = SparkSession.builder.appName(\"MySparkApp\").config(\"spark.some.config.option\", \"config-value\").getOrCreate()\n"
   ]
  },
  {
   "cell_type": "code",
   "execution_count": 4,
   "id": "b0e3b714",
   "metadata": {},
   "outputs": [
    {
     "name": "stdout",
     "output_type": "stream",
     "text": [
      "Spark version: 3.5.0\n"
     ]
    }
   ],
   "source": [
    "print(\"Spark version:\", spark.version)"
   ]
  },
  {
   "cell_type": "code",
   "execution_count": 5,
   "id": "7eec35a8",
   "metadata": {},
   "outputs": [],
   "source": [
    "case = \"C:/Users/VARUKISH/OneDrive - Capgemini/Desktop/Certificate/Data Engineer/Spark/archive/Case.csv\"\n",
    "region = \"C:/Users/VARUKISH/OneDrive - Capgemini/Desktop/Certificate/Data Engineer/Spark/archive/Region.csv\"\n",
    "time = \"C:/Users/VARUKISH/OneDrive - Capgemini/Desktop/Certificate/Data Engineer/Spark/archive/TimeProvince.csv\""
   ]
  },
  {
   "cell_type": "code",
   "execution_count": 6,
   "id": "5ecb510c",
   "metadata": {},
   "outputs": [
    {
     "name": "stdout",
     "output_type": "stream",
     "text": [
      "+--------+--------+------------+-----+--------------------+---------+---------+----------+\n",
      "| case_id|province|        city|group|      infection_case|confirmed| latitude| longitude|\n",
      "+--------+--------+------------+-----+--------------------+---------+---------+----------+\n",
      "| 1000001|   Seoul|  Yongsan-gu| true|       Itaewon Clubs|      139|37.538621|126.992652|\n",
      "| 1000002|   Seoul|   Gwanak-gu| true|             Richway|      119| 37.48208|126.901384|\n",
      "| 1000003|   Seoul|     Guro-gu| true| Guro-gu Call Center|       95|37.508163|126.884387|\n",
      "| 1000004|   Seoul|Yangcheon-gu| true|Yangcheon Table T...|       43|37.546061|126.874209|\n",
      "| 1000005|   Seoul|   Dobong-gu| true|     Day Care Center|       43|37.679422|127.044374|\n",
      "+--------+--------+------------+-----+--------------------+---------+---------+----------+\n",
      "only showing top 5 rows\n",
      "\n",
      "+-----+--------+-----------+---------+----------+-----------------------+------------------+----------------+-------------+------------------------+-------------------+------------------+\n",
      "| code|province|       city| latitude| longitude|elementary_school_count|kindergarten_count|university_count|academy_ratio|elderly_population_ratio|elderly_alone_ratio|nursing_home_count|\n",
      "+-----+--------+-----------+---------+----------+-----------------------+------------------+----------------+-------------+------------------------+-------------------+------------------+\n",
      "|10000|   Seoul|      Seoul|37.566953|126.977977|                    607|               830|              48|         1.44|                   15.38|                5.8|             22739|\n",
      "|10010|   Seoul| Gangnam-gu|37.518421|127.047222|                     33|                38|               0|         4.18|                   13.17|                4.3|              3088|\n",
      "|10020|   Seoul|Gangdong-gu|37.530492|127.123837|                     27|                32|               0|         1.54|                   14.55|                5.4|              1023|\n",
      "|10030|   Seoul| Gangbuk-gu|37.639938|127.025508|                     14|                21|               0|         0.67|                   19.49|                8.5|               628|\n",
      "|10040|   Seoul| Gangseo-gu|37.551166|126.849506|                     36|                56|               1|         1.17|                   14.39|                5.7|              1080|\n",
      "+-----+--------+-----------+---------+----------+-----------------------+------------------+----------------+-------------+------------------------+-------------------+------------------+\n",
      "only showing top 5 rows\n",
      "\n",
      "+----------+----+--------+---------+--------+--------+\n",
      "|      date|time|province|confirmed|released|deceased|\n",
      "+----------+----+--------+---------+--------+--------+\n",
      "|2020-01-20|  16|   Seoul|        0|       0|       0|\n",
      "|2020-01-20|  16|   Busan|        0|       0|       0|\n",
      "|2020-01-20|  16|   Daegu|        0|       0|       0|\n",
      "|2020-01-20|  16| Incheon|        1|       0|       0|\n",
      "|2020-01-20|  16| Gwangju|        0|       0|       0|\n",
      "+----------+----+--------+---------+--------+--------+\n",
      "only showing top 5 rows\n",
      "\n"
     ]
    }
   ],
   "source": [
    "#creating dataframes\n",
    "df_case = spark.read.option(\"header\",True).option(\"inferschema\",True).csv(case)\n",
    "df_region = spark.read.option(\"header\",True).option(\"inferschema\",True).csv(region)\n",
    "df_time = spark.read.option(\"header\",True).option(\"inferschema\",True).csv(time)\n",
    "df_case.show(5)\n",
    "df_region.show(5)\n",
    "df_time.show(5)"
   ]
  },
  {
   "cell_type": "code",
   "execution_count": 7,
   "id": "17500e38",
   "metadata": {},
   "outputs": [
    {
     "name": "stdout",
     "output_type": "stream",
     "text": [
      "Case Dataset row count: 174\n",
      "Region Dataset row count: 244\n",
      "TimeProvince Dataset row count: 2771\n"
     ]
    }
   ],
   "source": [
    "# count of records od each dataframe\n",
    "print(\"Case Dataset row count:\",df_case.count())\n",
    "print(\"Region Dataset row count:\",df_region.count())\n",
    "print(\"TimeProvince Dataset row count:\",df_time.count())"
   ]
  },
  {
   "cell_type": "code",
   "execution_count": 8,
   "id": "ba05ca48",
   "metadata": {},
   "outputs": [
    {
     "data": {
      "text/plain": [
       "DataFrame[date: date, time: int, province: string, confirmed: int, released: int, deceased: int]"
      ]
     },
     "execution_count": 8,
     "metadata": {},
     "output_type": "execute_result"
    }
   ],
   "source": [
    "# drop the duplicate vales\n",
    "df_case.dropDuplicates()\n",
    "df_region.dropDuplicates()\n",
    "df_time.dropDuplicates()"
   ]
  },
  {
   "cell_type": "code",
   "execution_count": 9,
   "id": "a1d7b12a",
   "metadata": {},
   "outputs": [
    {
     "data": {
      "text/plain": [
       "DataFrame[summary: string,  case_id: string, province: string, city: string, infection_case: string, confirmed: string, latitude: string, longitude: string]"
      ]
     },
     "execution_count": 9,
     "metadata": {},
     "output_type": "execute_result"
    }
   ],
   "source": [
    "# describing dataframe \n",
    "df_case.describe()"
   ]
  },
  {
   "cell_type": "code",
   "execution_count": 10,
   "id": "e402e0fb",
   "metadata": {},
   "outputs": [
    {
     "data": {
      "text/plain": [
       "DataFrame[summary: string, code: string, province: string, city: string, latitude: string, longitude: string, elementary_school_count: string, kindergarten_count: string, university_count: string, academy_ratio: string, elderly_population_ratio: string, elderly_alone_ratio: string, nursing_home_count: string]"
      ]
     },
     "execution_count": 10,
     "metadata": {},
     "output_type": "execute_result"
    }
   ],
   "source": [
    "# describing dataframe \n",
    "df_region.describe()"
   ]
  },
  {
   "cell_type": "code",
   "execution_count": 11,
   "id": "41adec03",
   "metadata": {},
   "outputs": [
    {
     "data": {
      "text/plain": [
       "DataFrame[summary: string, time: string, province: string, confirmed: string, released: string, deceased: string]"
      ]
     },
     "execution_count": 11,
     "metadata": {},
     "output_type": "execute_result"
    }
   ],
   "source": [
    "# describing dataframe \n",
    "df_time.describe()"
   ]
  },
  {
   "cell_type": "code",
   "execution_count": 12,
   "id": "b1dffefe",
   "metadata": {},
   "outputs": [
    {
     "name": "stdout",
     "output_type": "stream",
     "text": [
      "+--------+--------+------------+-----+--------------------+---------+---------+----------+\n",
      "| case_id|province|        city|group|      infection_case|confirmed| latitude| longitude|\n",
      "+--------+--------+------------+-----+--------------------+---------+---------+----------+\n",
      "| 1000001|   Seoul|  Yongsan-gu| true|       Itaewon Clubs|      139|37.538621|126.992652|\n",
      "| 1000002|   Seoul|   Gwanak-gu| true|             Richway|      119| 37.48208|126.901384|\n",
      "| 1000003|   Seoul|     Guro-gu| true| Guro-gu Call Center|       95|37.508163|126.884387|\n",
      "| 1000004|   Seoul|Yangcheon-gu| true|Yangcheon Table T...|       43|37.546061|126.874209|\n",
      "| 1000005|   Seoul|   Dobong-gu| true|     Day Care Center|       43|37.679422|127.044374|\n",
      "+--------+--------+------------+-----+--------------------+---------+---------+----------+\n",
      "\n"
     ]
    }
   ],
   "source": [
    "# use of limit function\n",
    "df_case_limit = df_case.limit(5)\n",
    "df_case_limit.show()"
   ]
  },
  {
   "cell_type": "code",
   "execution_count": 22,
   "id": "990c7a3d",
   "metadata": {},
   "outputs": [
    {
     "name": "stdout",
     "output_type": "stream",
     "text": [
      "+--------+---------------+\n",
      "| case_id|           city|\n",
      "+--------+---------------+\n",
      "| 1000001|     Yongsan-gu|\n",
      "| 1000002|      Gwanak-gu|\n",
      "| 1000003|        Guro-gu|\n",
      "| 1000004|   Yangcheon-gu|\n",
      "| 1000005|      Dobong-gu|\n",
      "| 1000006|        Guro-gu|\n",
      "| 1000007|from other city|\n",
      "| 1000008|  Dongdaemun-gu|\n",
      "| 1000009|from other city|\n",
      "| 1000010|      Gwanak-gu|\n",
      "| 1000011|   Eunpyeong-gu|\n",
      "| 1000012|   Seongdong-gu|\n",
      "| 1000013|      Jongno-gu|\n",
      "| 1000014|     Gangnam-gu|\n",
      "| 1000015|        Jung-gu|\n",
      "| 1000016|   Seodaemun-gu|\n",
      "| 1000017|      Jongno-gu|\n",
      "| 1000018|     Gangnam-gu|\n",
      "| 1000019|from other city|\n",
      "| 1000020|   Geumcheon-gu|\n",
      "+--------+---------------+\n",
      "only showing top 20 rows\n",
      "\n",
      "+-----------+----------------+\n",
      "|       city|university_count|\n",
      "+-----------+----------------+\n",
      "|      Seoul|              48|\n",
      "| Gangnam-gu|               0|\n",
      "|Gangdong-gu|               0|\n",
      "| Gangbuk-gu|               0|\n",
      "| Gangseo-gu|               1|\n",
      "+-----------+----------------+\n",
      "only showing top 5 rows\n",
      "\n",
      "+----+---------+\n",
      "|time|confirmed|\n",
      "+----+---------+\n",
      "|  16|        0|\n",
      "|  16|        0|\n",
      "|  16|        0|\n",
      "|  16|        1|\n",
      "|  16|        0|\n",
      "+----+---------+\n",
      "only showing top 5 rows\n",
      "\n"
     ]
    }
   ],
   "source": [
    "# column subset select\n",
    "df_case.select(\" case_id\",\"city\").show()\n",
    "df_region.select(\"city\",\"university_count\").show(5)\n",
    "df_time.select(\"time\",\"confirmed\").show(5)"
   ]
  },
  {
   "cell_type": "code",
   "execution_count": 23,
   "id": "4ee65c0d",
   "metadata": {},
   "outputs": [],
   "source": [
    "df_case = df_case.fillna(0)\n",
    "df_region = df_region.fillna(0)\n",
    "df_time = df_time.fillna(0)"
   ]
  },
  {
   "cell_type": "code",
   "execution_count": 25,
   "id": "8312b312",
   "metadata": {},
   "outputs": [
    {
     "name": "stdout",
     "output_type": "stream",
     "text": [
      "+--------+--------+------------+-----+--------------------+---------+---------+----------+\n",
      "| case_id|province|        city|group|      infection_case|confirmed| latitude| longitude|\n",
      "+--------+--------+------------+-----+--------------------+---------+---------+----------+\n",
      "| 1200001|   Daegu|      Nam-gu| true|  Shincheonji Church|     4511| 35.84008|  128.5667|\n",
      "| 1200002|   Daegu|Dalseong-gun| true|Second Mi-Ju Hosp...|      196|35.857375|128.466651|\n",
      "| 1200003|   Daegu|      Seo-gu| true|Hansarang Convale...|      124|35.885592|128.556649|\n",
      "| 1200004|   Daegu|Dalseong-gun| true|Daesil Convalesce...|      101|35.857393|128.466653|\n",
      "| 1200005|   Daegu|     Dong-gu| true|     Fatima Hospital|       39| 35.88395|128.624059|\n",
      "| 1200008|   Daegu|           -|false|     overseas inflow|       41|        -|         -|\n",
      "| 1200009|   Daegu|           -|false|contact with patient|      917|        -|         -|\n",
      "| 1200010|   Daegu|           -|false|                 etc|      747|        -|         -|\n",
      "+--------+--------+------------+-----+--------------------+---------+---------+----------+\n",
      "\n"
     ]
    }
   ],
   "source": [
    "# filters applied \n",
    "filtered_cases = df_case.filter((df_case[\"province\"] == \"Daegu\") & (df_case[\"confirmed\"] > 10))\n",
    "filtered_cases.show()"
   ]
  },
  {
   "cell_type": "code",
   "execution_count": 30,
   "id": "a32d7bc6",
   "metadata": {},
   "outputs": [
    {
     "name": "stdout",
     "output_type": "stream",
     "text": [
      "+--------+--------+---------------+-----+--------------------+---------+---------+----------+\n",
      "| case_id|province|           city|group|      infection_case|confirmed| latitude| longitude|\n",
      "+--------+--------+---------------+-----+--------------------+---------+---------+----------+\n",
      "| 1000005|   Seoul|      Dobong-gu| true|     Day Care Center|       43|37.679422|127.044374|\n",
      "| 1200001|   Daegu|         Nam-gu| true|  Shincheonji Church|     4511| 35.84008|  128.5667|\n",
      "| 1200002|   Daegu|   Dalseong-gun| true|Second Mi-Ju Hosp...|      196|35.857375|128.466651|\n",
      "| 1200003|   Daegu|         Seo-gu| true|Hansarang Convale...|      124|35.885592|128.556649|\n",
      "| 1200004|   Daegu|   Dalseong-gun| true|Daesil Convalesce...|      101|35.857393|128.466653|\n",
      "| 1200005|   Daegu|        Dong-gu| true|     Fatima Hospital|       39| 35.88395|128.624059|\n",
      "| 1200006|   Daegu|from other city| true|       Itaewon Clubs|        2|        -|         -|\n",
      "| 1200007|   Daegu|from other city| true|Cheongdo Daenam H...|        2|        -|         -|\n",
      "| 1200008|   Daegu|              -|false|     overseas inflow|       41|        -|         -|\n",
      "| 1200009|   Daegu|              -|false|contact with patient|      917|        -|         -|\n",
      "| 1200010|   Daegu|              -|false|                 etc|      747|        -|         -|\n",
      "+--------+--------+---------------+-----+--------------------+---------+---------+----------+\n",
      "\n"
     ]
    }
   ],
   "source": [
    "filter_infection_case = df_case.filter((df_case[\"infection_case\"] == \"Day Care Center\") | (df_case[\"province\"]==\"Daegu\"))\n",
    "filter_infection_case.show()"
   ]
  },
  {
   "cell_type": "code",
   "execution_count": 48,
   "id": "a8c9d067",
   "metadata": {},
   "outputs": [
    {
     "name": "stdout",
     "output_type": "stream",
     "text": [
      "+-----+-----------------------+-------------+\n",
      "| city|elementary_school_count|academy_ratio|\n",
      "+-----+-----------------------+-------------+\n",
      "|Seoul|                    607|         1.44|\n",
      "+-----+-----------------------+-------------+\n",
      "\n"
     ]
    }
   ],
   "source": [
    "filter_region_count = df_region.filter((df_region[\"city\"] == \"Seoul\") & (df_region[\"elementary_school_count\"] > 10) \n",
    "                                       & (df_region[\"academy_ratio\"] > 0.5)).select(\"city\",\"elementary_school_count\",\"academy_ratio\")\n",
    "filter_region_count.show()"
   ]
  },
  {
   "cell_type": "code",
   "execution_count": 56,
   "id": "c6e0dcea",
   "metadata": {},
   "outputs": [
    {
     "name": "stdout",
     "output_type": "stream",
     "text": [
      "+---------+\n",
      "|confirmed|\n",
      "+---------+\n",
      "|     4511|\n",
      "|      917|\n",
      "|      747|\n",
      "|      566|\n",
      "|      305|\n",
      "|      298|\n",
      "|      196|\n",
      "|      190|\n",
      "|      162|\n",
      "|      139|\n",
      "|      133|\n",
      "|      124|\n",
      "|      119|\n",
      "|      119|\n",
      "|      103|\n",
      "|      101|\n",
      "|      100|\n",
      "|       95|\n",
      "|       84|\n",
      "|       68|\n",
      "+---------+\n",
      "only showing top 20 rows\n",
      "\n"
     ]
    }
   ],
   "source": [
    "#sorting the values in descending \n",
    "df_case.sort(\"confirmed\",ascending = False).select(\"confirmed\").show()"
   ]
  },
  {
   "cell_type": "code",
   "execution_count": 57,
   "id": "a7f5dedc",
   "metadata": {},
   "outputs": [
    {
     "name": "stdout",
     "output_type": "stream",
     "text": [
      "root\n",
      " |--  case_id: integer (nullable = true)\n",
      " |-- province: string (nullable = true)\n",
      " |-- city: string (nullable = true)\n",
      " |-- group: boolean (nullable = true)\n",
      " |-- infection_case: string (nullable = true)\n",
      " |-- confirmed: integer (nullable = true)\n",
      " |-- latitude: string (nullable = true)\n",
      " |-- longitude: string (nullable = true)\n",
      "\n"
     ]
    }
   ],
   "source": [
    "df_case.printSchema()"
   ]
  },
  {
   "cell_type": "code",
   "execution_count": 74,
   "id": "323c388e",
   "metadata": {},
   "outputs": [
    {
     "name": "stdout",
     "output_type": "stream",
     "text": [
      "root\n",
      " |--  case_id: integer (nullable = true)\n",
      " |-- province: string (nullable = true)\n",
      " |-- city: string (nullable = true)\n",
      " |-- group: boolean (nullable = true)\n",
      " |-- infection_case: string (nullable = true)\n",
      " |-- confirmed: integer (nullable = true)\n",
      " |-- latitude: double (nullable = true)\n",
      " |-- longitude: double (nullable = true)\n",
      "\n"
     ]
    }
   ],
   "source": [
    "# so we can change the datatype of latitude and logitude to double\n",
    "df_case = df_case.withColumn(\"latitude\",col(\"latitude\").cast(DoubleType()))\n",
    "df_case = df_case.withColumn(\"longitude\",col(\"longitude\").cast(DoubleType()))\n",
    "df_case.printSchema()"
   ]
  },
  {
   "cell_type": "code",
   "execution_count": 76,
   "id": "b8a70c56",
   "metadata": {},
   "outputs": [
    {
     "name": "stdout",
     "output_type": "stream",
     "text": [
      "+----------------+---------------+--------------+\n",
      "|        province|           city|sum(confirmed)|\n",
      "+----------------+---------------+--------------+\n",
      "|Gyeongsangnam-do|       Jinju-si|             9|\n",
      "|           Seoul|        Guro-gu|           139|\n",
      "|           Seoul|     Gangnam-gu|            18|\n",
      "|         Daejeon|              -|           100|\n",
      "|    Jeollabuk-do|from other city|             6|\n",
      "|Gyeongsangnam-do|Changnyeong-gun|             7|\n",
      "|           Seoul|              -|           561|\n",
      "|         Jeju-do|from other city|             1|\n",
      "|Gyeongsangbuk-do|              -|           345|\n",
      "|Gyeongsangnam-do|   Geochang-gun|            18|\n",
      "|Gyeongsangbuk-do|        Gumi-si|            10|\n",
      "|         Incheon|from other city|           117|\n",
      "|           Busan|              -|            85|\n",
      "|           Daegu|         Seo-gu|           124|\n",
      "|           Busan|     Suyeong-gu|             5|\n",
      "|     Gyeonggi-do|   Uijeongbu-si|            50|\n",
      "|           Seoul|     Yongsan-gu|           139|\n",
      "|           Daegu|              -|          1705|\n",
      "|           Seoul|   Seodaemun-gu|             5|\n",
      "|     Gyeonggi-do|    Seongnam-si|            94|\n",
      "+----------------+---------------+--------------+\n",
      "only showing top 20 rows\n",
      "\n"
     ]
    }
   ],
   "source": [
    "#group by province and city with sum of confirmed cases\n",
    "df_case.groupBy([\"province\",\"city\"]).sum(\"confirmed\").show()"
   ]
  },
  {
   "cell_type": "code",
   "execution_count": 82,
   "id": "73b9bfdf",
   "metadata": {},
   "outputs": [
    {
     "name": "stdout",
     "output_type": "stream",
     "text": [
      "+--------+--------+-------+-----+--------------------+---------+-----------------+-----------------+-----+-----+---------+----------+-----------------------+------------------+----------------+-------------+------------------------+-------------------+------------------+\n",
      "|province| case_id|   city|group|      infection_case|confirmed|         latitude|        longitude| code| city| latitude| longitude|elementary_school_count|kindergarten_count|university_count|academy_ratio|elderly_population_ratio|elderly_alone_ratio|nursing_home_count|\n",
      "+--------+--------+-------+-----+--------------------+---------+-----------------+-----------------+-----+-----+---------+----------+-----------------------+------------------+----------------+-------------+------------------------+-------------------+------------------+\n",
      "|   Seoul| 1000038|      -|false|                 etc|      100|             NULL|             NULL|10000|Seoul|37.566953|126.977977|                    607|               830|              48|         1.44|                   15.38|                5.8|             22739|\n",
      "|   Seoul| 1000037|      -|false|contact with patient|      162|             NULL|             NULL|10000|Seoul|37.566953|126.977977|                    607|               830|              48|         1.44|                   15.38|                5.8|             22739|\n",
      "|   Seoul| 1000036|      -|false|     overseas inflow|      298|             NULL|             NULL|10000|Seoul|37.566953|126.977977|                    607|               830|              48|         1.44|                   15.38|                5.8|             22739|\n",
      "|   Seoul| 1000035|Guro-gu| true|     Daezayeon Korea|        3|37.48683547973633|126.8931655883789|10000|Seoul|37.566953|126.977977|                    607|               830|              48|         1.44|                   15.38|                5.8|             22739|\n",
      "|   Seoul| 1000034|      -| true|         Orange Life|        1|             NULL|             NULL|10000|Seoul|37.566953|126.977977|                    607|               830|              48|         1.44|                   15.38|                5.8|             22739|\n",
      "+--------+--------+-------+-----+--------------------+---------+-----------------+-----------------+-----+-----+---------+----------+-----------------------+------------------+----------------+-------------+------------------------+-------------------+------------------+\n",
      "only showing top 5 rows\n",
      "\n",
      "+--------+--------+----------+-----+--------------+---------+-----------------+-----------------+-----+------------+---------+----------+-----------------------+------------------+----------------+-------------+------------------------+-------------------+------------------+\n",
      "|province| case_id|      city|group|infection_case|confirmed|         latitude|        longitude| code|        city| latitude| longitude|elementary_school_count|kindergarten_count|university_count|academy_ratio|elderly_population_ratio|elderly_alone_ratio|nursing_home_count|\n",
      "+--------+--------+----------+-----+--------------+---------+-----------------+-----------------+-----+------------+---------+----------+-----------------------+------------------+----------------+-------------+------------------------+-------------------+------------------+\n",
      "|   Seoul| 1000001|Yongsan-gu| true| Itaewon Clubs|      139|37.53861999511719|126.9926528930664|10250| Jungnang-gu|37.606832|127.092656|                     23|                31|               1|          0.7|                   16.65|                6.9|               689|\n",
      "|   Seoul| 1000001|Yongsan-gu| true| Itaewon Clubs|      139|37.53861999511719|126.9926528930664|10240|     Jung-gu|37.563988| 126.99753|                     12|                14|               2|         0.94|                   18.42|                7.4|               728|\n",
      "|   Seoul| 1000001|Yongsan-gu| true| Itaewon Clubs|      139|37.53861999511719|126.9926528930664|10230|   Jongno-gu|37.572999|126.979189|                     13|                17|               3|         1.71|                   18.27|                6.8|               668|\n",
      "|   Seoul| 1000001|Yongsan-gu| true| Itaewon Clubs|      139|37.53861999511719|126.9926528930664|10220|Eunpyeong-gu|37.603481|126.929173|                     31|                44|               1|         1.09|                    17.0|                6.5|               874|\n",
      "|   Seoul| 1000001|Yongsan-gu| true| Itaewon Clubs|      139|37.53861999511719|126.9926528930664|10210|  Yongsan-gu|37.532768|126.990021|                     15|                13|               1|         0.68|                   16.87|                6.5|               435|\n",
      "+--------+--------+----------+-----+--------------+---------+-----------------+-----------------+-----+------------+---------+----------+-----------------------+------------------+----------------+-------------+------------------------+-------------------+------------------+\n",
      "only showing top 5 rows\n",
      "\n",
      "+--------+--------+-------+-----+--------------------+---------+-----------------+-----------------+-----+-----+---------+----------+-----------------------+------------------+----------------+-------------+------------------------+-------------------+------------------+\n",
      "|province| case_id|   city|group|      infection_case|confirmed|         latitude|        longitude| code| city| latitude| longitude|elementary_school_count|kindergarten_count|university_count|academy_ratio|elderly_population_ratio|elderly_alone_ratio|nursing_home_count|\n",
      "+--------+--------+-------+-----+--------------------+---------+-----------------+-----------------+-----+-----+---------+----------+-----------------------+------------------+----------------+-------------+------------------------+-------------------+------------------+\n",
      "|   Seoul| 1000038|      -|false|                 etc|      100|             NULL|             NULL|10000|Seoul|37.566953|126.977977|                    607|               830|              48|         1.44|                   15.38|                5.8|             22739|\n",
      "|   Seoul| 1000037|      -|false|contact with patient|      162|             NULL|             NULL|10000|Seoul|37.566953|126.977977|                    607|               830|              48|         1.44|                   15.38|                5.8|             22739|\n",
      "|   Seoul| 1000036|      -|false|     overseas inflow|      298|             NULL|             NULL|10000|Seoul|37.566953|126.977977|                    607|               830|              48|         1.44|                   15.38|                5.8|             22739|\n",
      "|   Seoul| 1000035|Guro-gu| true|     Daezayeon Korea|        3|37.48683547973633|126.8931655883789|10000|Seoul|37.566953|126.977977|                    607|               830|              48|         1.44|                   15.38|                5.8|             22739|\n",
      "|   Seoul| 1000034|      -| true|         Orange Life|        1|             NULL|             NULL|10000|Seoul|37.566953|126.977977|                    607|               830|              48|         1.44|                   15.38|                5.8|             22739|\n",
      "+--------+--------+-------+-----+--------------------+---------+-----------------+-----------------+-----+-----+---------+----------+-----------------------+------------------+----------------+-------------+------------------------+-------------------+------------------+\n",
      "only showing top 5 rows\n",
      "\n",
      "+--------+--------+----------+-----+--------------+---------+-----------------+-----------------+-----+------------+---------+----------+-----------------------+------------------+----------------+-------------+------------------------+-------------------+------------------+\n",
      "|province| case_id|      city|group|infection_case|confirmed|         latitude|        longitude| code|        city| latitude| longitude|elementary_school_count|kindergarten_count|university_count|academy_ratio|elderly_population_ratio|elderly_alone_ratio|nursing_home_count|\n",
      "+--------+--------+----------+-----+--------------+---------+-----------------+-----------------+-----+------------+---------+----------+-----------------------+------------------+----------------+-------------+------------------------+-------------------+------------------+\n",
      "|   Busan| 1100001|Dongnae-gu| true| Onchun Church|       39|35.21628189086914|129.0771026611328|11000|       Busan|35.179884|129.074796|                    304|               408|              22|          1.4|                   18.41|                8.6|              6752|\n",
      "|   Busan| 1100001|Dongnae-gu| true| Onchun Church|       39|35.21628189086914|129.0771026611328|11010|  Gangseo-gu|35.212424| 128.98068|                     17|                21|               0|         1.43|                   11.84|                5.0|               147|\n",
      "|   Busan| 1100001|Dongnae-gu| true| Onchun Church|       39|35.21628189086914|129.0771026611328|11020|Geumjeong-gu|35.243053|129.092163|                     22|                28|               4|         1.64|                    19.8|                8.4|               466|\n",
      "|   Busan| 1100001|Dongnae-gu| true| Onchun Church|       39|35.21628189086914|129.0771026611328|11030|  Gijang-gun|35.244881|129.222253|                     21|                35|               0|         1.31|                   15.45|                7.4|               229|\n",
      "|   Busan| 1100001|Dongnae-gu| true| Onchun Church|       39|35.21628189086914|129.0771026611328|11040|      Nam-gu|35.136789| 129.08414|                     21|                27|               4|         1.24|                   19.13|                7.9|               475|\n",
      "+--------+--------+----------+-----+--------------+---------+-----------------+-----------------+-----+------------+---------+----------+-----------------------+------------------+----------------+-------------+------------------------+-------------------+------------------+\n",
      "only showing top 5 rows\n",
      "\n"
     ]
    }
   ],
   "source": [
    "#joining two dataframes one with cases and region\n",
    "# showing two ways we can show the joins \n",
    "#df_covid_case_region = df_case.join(df_region,df_region.province == df_case.province,\"inner\")\n",
    "df_covid_case_region_inner = df_case.join(df_region,\"province\",\"inner\")\n",
    "df_covid_case_region_left = df_case.join(df_region,\"province\",\"left\")\n",
    "df_covid_case_region_right = df_case.join(df_region,\"province\",\"right\")\n",
    "df_covid_case_region_outer = df_case.join(df_region,\"province\",\"outer\")\n",
    "df_covid_case_region_inner.show(5)\n",
    "df_covid_case_region_left.show(5)\n",
    "df_covid_case_region_right.show(5)\n",
    "df_covid_case_region_outer.show(5)"
   ]
  },
  {
   "cell_type": "code",
   "execution_count": 95,
   "id": "7fd1af45",
   "metadata": {},
   "outputs": [
    {
     "name": "stdout",
     "output_type": "stream",
     "text": [
      "+-----------------+---------------------+\n",
      "|         province|total_confirmed_cases|\n",
      "+-----------------+---------------------+\n",
      "| Gyeongsangbuk-do|                 1324|\n",
      "|            Daegu|                 6680|\n",
      "| Gyeongsangnam-do|                  132|\n",
      "|          Incheon|                  202|\n",
      "|      Gyeonggi-do|                 1000|\n",
      "|            Busan|                  156|\n",
      "|          Daejeon|                  131|\n",
      "|            Seoul|                 1280|\n",
      "|Chungcheongnam-do|                  158|\n",
      "+-----------------+---------------------+\n",
      "\n"
     ]
    }
   ],
   "source": [
    "#sql in pyspark showing province wise confirmed  cases greater then 100 using group by\n",
    "df_case.registerTempTable(\"cases\")\n",
    "df_case_sql = spark.sql(\"select province,SUM(confirmed) as total_confirmed_cases from cases GROUP by province having total_confirmed_cases > 100\")\n",
    "df_case_sql.show()"
   ]
  },
  {
   "cell_type": "code",
   "execution_count": 101,
   "id": "39ef2d69",
   "metadata": {},
   "outputs": [
    {
     "name": "stdout",
     "output_type": "stream",
     "text": [
      "+--------+---------------+---------+--------------+\n",
      "|province|           city|confirmed|Cases_high_low|\n",
      "+--------+---------------+---------+--------------+\n",
      "|   Seoul|     Yongsan-gu|      139|          high|\n",
      "|   Seoul|      Gwanak-gu|      119|          high|\n",
      "|   Seoul|        Guro-gu|       95|           low|\n",
      "|   Seoul|   Yangcheon-gu|       43|           low|\n",
      "|   Seoul|      Dobong-gu|       43|           low|\n",
      "|   Seoul|        Guro-gu|       41|           low|\n",
      "|   Seoul|from other city|       36|           low|\n",
      "|   Seoul|  Dongdaemun-gu|       17|           low|\n",
      "|   Seoul|from other city|       25|           low|\n",
      "|   Seoul|      Gwanak-gu|       30|           low|\n",
      "+--------+---------------+---------+--------------+\n",
      "only showing top 10 rows\n",
      "\n"
     ]
    }
   ],
   "source": [
    "@udf(returnType=StringType())\n",
    "def casehighlow(case):\n",
    "    if(case > 100):\n",
    "        return \"high\"\n",
    "    else:\n",
    "        return \"low\"\n",
    "\n",
    "df_case.select(\"province\",\"city\",\"confirmed\",casehighlow(\"confirmed\").alias(\"Cases_high_low\")).show(10)\n"
   ]
  },
  {
   "cell_type": "code",
   "execution_count": null,
   "id": "8ce874ef",
   "metadata": {},
   "outputs": [],
   "source": []
  },
  {
   "cell_type": "code",
   "execution_count": null,
   "id": "f1577e68",
   "metadata": {},
   "outputs": [],
   "source": []
  }
 ],
 "metadata": {
  "kernelspec": {
   "display_name": "Python 3 (ipykernel)",
   "language": "python",
   "name": "python3"
  },
  "language_info": {
   "codemirror_mode": {
    "name": "ipython",
    "version": 3
   },
   "file_extension": ".py",
   "mimetype": "text/x-python",
   "name": "python",
   "nbconvert_exporter": "python",
   "pygments_lexer": "ipython3",
   "version": "3.11.4"
  }
 },
 "nbformat": 4,
 "nbformat_minor": 5
}
